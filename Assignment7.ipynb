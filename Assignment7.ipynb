{
 "cells": [
  {
   "cell_type": "code",
   "execution_count": null,
   "id": "3af3b5c9",
   "metadata": {},
   "outputs": [],
   "source": [
    "1. A spam filter is designed by looking at commonly occurring phrases in spam. Suppose that\n",
    "80% of email is spam. In 10% of the spam emails, the phrase “free money” is used, whereas this phrase is only used in 1% of non-spam emails. A new email has just arrived, which does mention “free money”. What is the probability that it is spam?\n",
    "\n",
    "Ans-> A:The event email is spam\n",
    "\n",
    "B: The event of email has free memory space\n",
    "\n",
    "P(A|B) = P(B|A) * P(A)/P(B)\n",
    "\n",
    "0.1/0.8/(0.10.8)+(0.010.2)\n",
    "\n",
    "= 80/82"
   ]
  }
 ],
 "metadata": {
  "kernelspec": {
   "display_name": "Python 3 (ipykernel)",
   "language": "python",
   "name": "python3"
  },
  "language_info": {
   "codemirror_mode": {
    "name": "ipython",
    "version": 3
   },
   "file_extension": ".py",
   "mimetype": "text/x-python",
   "name": "python",
   "nbconvert_exporter": "python",
   "pygments_lexer": "ipython3",
   "version": "3.9.7"
  }
 },
 "nbformat": 4,
 "nbformat_minor": 5
}
